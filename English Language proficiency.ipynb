{
 "cells": [
  {
   "cell_type": "code",
   "execution_count": 1,
   "id": "304af7a7",
   "metadata": {
    "_cell_guid": "b1076dfc-b9ad-4769-8c92-a6c4dae69d19",
    "_uuid": "8f2839f25d086af736a60e9eeb907d3b93b6e0e5",
    "execution": {
     "iopub.execute_input": "2023-05-07T13:09:16.310343Z",
     "iopub.status.busy": "2023-05-07T13:09:16.309950Z",
     "iopub.status.idle": "2023-05-07T13:09:16.321970Z",
     "shell.execute_reply": "2023-05-07T13:09:16.321156Z"
    },
    "papermill": {
     "duration": 0.023894,
     "end_time": "2023-05-07T13:09:16.324309",
     "exception": false,
     "start_time": "2023-05-07T13:09:16.300415",
     "status": "completed"
    },
    "tags": []
   },
   "outputs": [
    {
     "name": "stdout",
     "output_type": "stream",
     "text": [
      "/kaggle/input/feedback-prize-english-language-learning/sample_submission.csv\n",
      "/kaggle/input/feedback-prize-english-language-learning/train.csv\n",
      "/kaggle/input/feedback-prize-english-language-learning/test.csv\n"
     ]
    }
   ],
   "source": [
    "# This Python 3 environment comes with many helpful analytics libraries installed\n",
    "# It is defined by the kaggle/python Docker image: https://github.com/kaggle/docker-python\n",
    "# For example, here's several helpful packages to load\n",
    "\n",
    "import numpy as np # linear algebra\n",
    "import pandas as pd # data processing, CSV file I/O (e.g. pd.read_csv)\n",
    "\n",
    "# Input data files are available in the read-only \"../input/\" directory\n",
    "# For example, running this (by clicking run or pressing Shift+Enter) will list all files under the input directory\n",
    "\n",
    "import os\n",
    "for dirname, _, filenames in os.walk('/kaggle/input'):\n",
    "    for filename in filenames:\n",
    "        print(os.path.join(dirname, filename))\n",
    "\n",
    "# You can write up to 20GB to the current directory (/kaggle/working/) that gets preserved as output when you create a version using \"Save & Run All\" \n",
    "# You can also write temporary files to /kaggle/temp/, but they won't be saved outside of the current session"
   ]
  },
  {
   "cell_type": "code",
   "execution_count": 2,
   "id": "140c843d",
   "metadata": {
    "execution": {
     "iopub.execute_input": "2023-05-07T13:09:16.340431Z",
     "iopub.status.busy": "2023-05-07T13:09:16.339820Z",
     "iopub.status.idle": "2023-05-07T13:09:16.603923Z",
     "shell.execute_reply": "2023-05-07T13:09:16.602760Z"
    },
    "papermill": {
     "duration": 0.274888,
     "end_time": "2023-05-07T13:09:16.606261",
     "exception": false,
     "start_time": "2023-05-07T13:09:16.331373",
     "status": "completed"
    },
    "tags": []
   },
   "outputs": [
    {
     "data": {
      "text/html": [
       "<div>\n",
       "<style scoped>\n",
       "    .dataframe tbody tr th:only-of-type {\n",
       "        vertical-align: middle;\n",
       "    }\n",
       "\n",
       "    .dataframe tbody tr th {\n",
       "        vertical-align: top;\n",
       "    }\n",
       "\n",
       "    .dataframe thead th {\n",
       "        text-align: right;\n",
       "    }\n",
       "</style>\n",
       "<table border=\"1\" class=\"dataframe\">\n",
       "  <thead>\n",
       "    <tr style=\"text-align: right;\">\n",
       "      <th></th>\n",
       "      <th>text_id</th>\n",
       "      <th>full_text</th>\n",
       "      <th>cohesion</th>\n",
       "      <th>syntax</th>\n",
       "      <th>vocabulary</th>\n",
       "      <th>phraseology</th>\n",
       "      <th>grammar</th>\n",
       "      <th>conventions</th>\n",
       "    </tr>\n",
       "  </thead>\n",
       "  <tbody>\n",
       "    <tr>\n",
       "      <th>0</th>\n",
       "      <td>0016926B079C</td>\n",
       "      <td>I think that students would benefit from learn...</td>\n",
       "      <td>3.5</td>\n",
       "      <td>3.5</td>\n",
       "      <td>3.0</td>\n",
       "      <td>3.0</td>\n",
       "      <td>4.0</td>\n",
       "      <td>3.0</td>\n",
       "    </tr>\n",
       "    <tr>\n",
       "      <th>1</th>\n",
       "      <td>0022683E9EA5</td>\n",
       "      <td>When a problem is a change you have to let it ...</td>\n",
       "      <td>2.5</td>\n",
       "      <td>2.5</td>\n",
       "      <td>3.0</td>\n",
       "      <td>2.0</td>\n",
       "      <td>2.0</td>\n",
       "      <td>2.5</td>\n",
       "    </tr>\n",
       "    <tr>\n",
       "      <th>2</th>\n",
       "      <td>00299B378633</td>\n",
       "      <td>Dear, Principal\\n\\nIf u change the school poli...</td>\n",
       "      <td>3.0</td>\n",
       "      <td>3.5</td>\n",
       "      <td>3.0</td>\n",
       "      <td>3.0</td>\n",
       "      <td>3.0</td>\n",
       "      <td>2.5</td>\n",
       "    </tr>\n",
       "    <tr>\n",
       "      <th>3</th>\n",
       "      <td>003885A45F42</td>\n",
       "      <td>The best time in life is when you become yours...</td>\n",
       "      <td>4.5</td>\n",
       "      <td>4.5</td>\n",
       "      <td>4.5</td>\n",
       "      <td>4.5</td>\n",
       "      <td>4.0</td>\n",
       "      <td>5.0</td>\n",
       "    </tr>\n",
       "    <tr>\n",
       "      <th>4</th>\n",
       "      <td>0049B1DF5CCC</td>\n",
       "      <td>Small act of kindness can impact in other peop...</td>\n",
       "      <td>2.5</td>\n",
       "      <td>3.0</td>\n",
       "      <td>3.0</td>\n",
       "      <td>3.0</td>\n",
       "      <td>2.5</td>\n",
       "      <td>2.5</td>\n",
       "    </tr>\n",
       "  </tbody>\n",
       "</table>\n",
       "</div>"
      ],
      "text/plain": [
       "        text_id                                          full_text  cohesion  \\\n",
       "0  0016926B079C  I think that students would benefit from learn...       3.5   \n",
       "1  0022683E9EA5  When a problem is a change you have to let it ...       2.5   \n",
       "2  00299B378633  Dear, Principal\\n\\nIf u change the school poli...       3.0   \n",
       "3  003885A45F42  The best time in life is when you become yours...       4.5   \n",
       "4  0049B1DF5CCC  Small act of kindness can impact in other peop...       2.5   \n",
       "\n",
       "   syntax  vocabulary  phraseology  grammar  conventions  \n",
       "0     3.5         3.0          3.0      4.0          3.0  \n",
       "1     2.5         3.0          2.0      2.0          2.5  \n",
       "2     3.5         3.0          3.0      3.0          2.5  \n",
       "3     4.5         4.5          4.5      4.0          5.0  \n",
       "4     3.0         3.0          3.0      2.5          2.5  "
      ]
     },
     "execution_count": 2,
     "metadata": {},
     "output_type": "execute_result"
    }
   ],
   "source": [
    "t = pd.read_csv('/kaggle/input/feedback-prize-english-language-learning/train.csv')\n",
    "t.head()"
   ]
  },
  {
   "cell_type": "code",
   "execution_count": 3,
   "id": "131ffebd",
   "metadata": {
    "execution": {
     "iopub.execute_input": "2023-05-07T13:09:16.621974Z",
     "iopub.status.busy": "2023-05-07T13:09:16.621591Z",
     "iopub.status.idle": "2023-05-07T13:09:16.644385Z",
     "shell.execute_reply": "2023-05-07T13:09:16.643412Z"
    },
    "papermill": {
     "duration": 0.033205,
     "end_time": "2023-05-07T13:09:16.646498",
     "exception": false,
     "start_time": "2023-05-07T13:09:16.613293",
     "status": "completed"
    },
    "tags": []
   },
   "outputs": [
    {
     "data": {
      "text/html": [
       "<div>\n",
       "<style scoped>\n",
       "    .dataframe tbody tr th:only-of-type {\n",
       "        vertical-align: middle;\n",
       "    }\n",
       "\n",
       "    .dataframe tbody tr th {\n",
       "        vertical-align: top;\n",
       "    }\n",
       "\n",
       "    .dataframe thead th {\n",
       "        text-align: right;\n",
       "    }\n",
       "</style>\n",
       "<table border=\"1\" class=\"dataframe\">\n",
       "  <thead>\n",
       "    <tr style=\"text-align: right;\">\n",
       "      <th></th>\n",
       "      <th>full_text</th>\n",
       "      <th>cohesion</th>\n",
       "      <th>syntax</th>\n",
       "      <th>vocabulary</th>\n",
       "      <th>phraseology</th>\n",
       "      <th>grammar</th>\n",
       "      <th>conventions</th>\n",
       "    </tr>\n",
       "  </thead>\n",
       "  <tbody>\n",
       "    <tr>\n",
       "      <th>0</th>\n",
       "      <td>I think that students would benefit from learn...</td>\n",
       "      <td>3.5</td>\n",
       "      <td>3.5</td>\n",
       "      <td>3.0</td>\n",
       "      <td>3.0</td>\n",
       "      <td>4.0</td>\n",
       "      <td>3.0</td>\n",
       "    </tr>\n",
       "    <tr>\n",
       "      <th>1</th>\n",
       "      <td>When a problem is a change you have to let it ...</td>\n",
       "      <td>2.5</td>\n",
       "      <td>2.5</td>\n",
       "      <td>3.0</td>\n",
       "      <td>2.0</td>\n",
       "      <td>2.0</td>\n",
       "      <td>2.5</td>\n",
       "    </tr>\n",
       "    <tr>\n",
       "      <th>2</th>\n",
       "      <td>Dear, Principal\\n\\nIf u change the school poli...</td>\n",
       "      <td>3.0</td>\n",
       "      <td>3.5</td>\n",
       "      <td>3.0</td>\n",
       "      <td>3.0</td>\n",
       "      <td>3.0</td>\n",
       "      <td>2.5</td>\n",
       "    </tr>\n",
       "    <tr>\n",
       "      <th>3</th>\n",
       "      <td>The best time in life is when you become yours...</td>\n",
       "      <td>4.5</td>\n",
       "      <td>4.5</td>\n",
       "      <td>4.5</td>\n",
       "      <td>4.5</td>\n",
       "      <td>4.0</td>\n",
       "      <td>5.0</td>\n",
       "    </tr>\n",
       "    <tr>\n",
       "      <th>4</th>\n",
       "      <td>Small act of kindness can impact in other peop...</td>\n",
       "      <td>2.5</td>\n",
       "      <td>3.0</td>\n",
       "      <td>3.0</td>\n",
       "      <td>3.0</td>\n",
       "      <td>2.5</td>\n",
       "      <td>2.5</td>\n",
       "    </tr>\n",
       "  </tbody>\n",
       "</table>\n",
       "</div>"
      ],
      "text/plain": [
       "                                           full_text  cohesion  syntax  \\\n",
       "0  I think that students would benefit from learn...       3.5     3.5   \n",
       "1  When a problem is a change you have to let it ...       2.5     2.5   \n",
       "2  Dear, Principal\\n\\nIf u change the school poli...       3.0     3.5   \n",
       "3  The best time in life is when you become yours...       4.5     4.5   \n",
       "4  Small act of kindness can impact in other peop...       2.5     3.0   \n",
       "\n",
       "   vocabulary  phraseology  grammar  conventions  \n",
       "0         3.0          3.0      4.0          3.0  \n",
       "1         3.0          2.0      2.0          2.5  \n",
       "2         3.0          3.0      3.0          2.5  \n",
       "3         4.5          4.5      4.0          5.0  \n",
       "4         3.0          3.0      2.5          2.5  "
      ]
     },
     "execution_count": 3,
     "metadata": {},
     "output_type": "execute_result"
    }
   ],
   "source": [
    "t.drop(['text_id'],axis = 1,inplace = True)\n",
    "t.head()"
   ]
  },
  {
   "cell_type": "code",
   "execution_count": 4,
   "id": "380bd934",
   "metadata": {
    "execution": {
     "iopub.execute_input": "2023-05-07T13:09:16.662923Z",
     "iopub.status.busy": "2023-05-07T13:09:16.662123Z",
     "iopub.status.idle": "2023-05-07T13:09:16.669961Z",
     "shell.execute_reply": "2023-05-07T13:09:16.668956Z"
    },
    "papermill": {
     "duration": 0.018408,
     "end_time": "2023-05-07T13:09:16.672092",
     "exception": false,
     "start_time": "2023-05-07T13:09:16.653684",
     "status": "completed"
    },
    "tags": []
   },
   "outputs": [
    {
     "data": {
      "text/plain": [
       "0    I think that students would benefit from learn...\n",
       "1    When a problem is a change you have to let it ...\n",
       "2    Dear, Principal\\n\\nIf u change the school poli...\n",
       "3    The best time in life is when you become yours...\n",
       "4    Small act of kindness can impact in other peop...\n",
       "Name: full_text, dtype: object"
      ]
     },
     "execution_count": 4,
     "metadata": {},
     "output_type": "execute_result"
    }
   ],
   "source": [
    "ft = t.full_text\n",
    "ft.head()"
   ]
  },
  {
   "cell_type": "code",
   "execution_count": 5,
   "id": "f3c9ce2c",
   "metadata": {
    "execution": {
     "iopub.execute_input": "2023-05-07T13:09:16.688349Z",
     "iopub.status.busy": "2023-05-07T13:09:16.687989Z",
     "iopub.status.idle": "2023-05-07T13:09:16.694099Z",
     "shell.execute_reply": "2023-05-07T13:09:16.692972Z"
    },
    "papermill": {
     "duration": 0.016962,
     "end_time": "2023-05-07T13:09:16.696347",
     "exception": false,
     "start_time": "2023-05-07T13:09:16.679385",
     "status": "completed"
    },
    "tags": []
   },
   "outputs": [],
   "source": [
    "y = t\n",
    "y.drop(['full_text'],axis = 1,inplace = True)\n"
   ]
  },
  {
   "cell_type": "code",
   "execution_count": 6,
   "id": "383ff5d0",
   "metadata": {
    "execution": {
     "iopub.execute_input": "2023-05-07T13:09:16.713135Z",
     "iopub.status.busy": "2023-05-07T13:09:16.712696Z",
     "iopub.status.idle": "2023-05-07T13:09:16.731780Z",
     "shell.execute_reply": "2023-05-07T13:09:16.730550Z"
    },
    "papermill": {
     "duration": 0.029863,
     "end_time": "2023-05-07T13:09:16.733986",
     "exception": false,
     "start_time": "2023-05-07T13:09:16.704123",
     "status": "completed"
    },
    "tags": []
   },
   "outputs": [],
   "source": [
    "ft = ft.str.lower()"
   ]
  },
  {
   "cell_type": "code",
   "execution_count": 7,
   "id": "08101a31",
   "metadata": {
    "execution": {
     "iopub.execute_input": "2023-05-07T13:09:16.750940Z",
     "iopub.status.busy": "2023-05-07T13:09:16.750245Z",
     "iopub.status.idle": "2023-05-07T13:09:16.755010Z",
     "shell.execute_reply": "2023-05-07T13:09:16.754093Z"
    },
    "papermill": {
     "duration": 0.015597,
     "end_time": "2023-05-07T13:09:16.757079",
     "exception": false,
     "start_time": "2023-05-07T13:09:16.741482",
     "status": "completed"
    },
    "tags": []
   },
   "outputs": [],
   "source": [
    "def remove_n_r(text):\n",
    "    n = []\n",
    "    for t in text:\n",
    "        if t not in ['\\n','\\r']:\n",
    "                     n.append(t)\n",
    "    return \"\".join(n)"
   ]
  },
  {
   "cell_type": "code",
   "execution_count": 8,
   "id": "851868dc",
   "metadata": {
    "execution": {
     "iopub.execute_input": "2023-05-07T13:09:16.773581Z",
     "iopub.status.busy": "2023-05-07T13:09:16.773215Z",
     "iopub.status.idle": "2023-05-07T13:09:18.222883Z",
     "shell.execute_reply": "2023-05-07T13:09:18.221654Z"
    },
    "papermill": {
     "duration": 1.461118,
     "end_time": "2023-05-07T13:09:18.225591",
     "exception": false,
     "start_time": "2023-05-07T13:09:16.764473",
     "status": "completed"
    },
    "tags": []
   },
   "outputs": [],
   "source": [
    "ft = ft.apply(remove_n_r)"
   ]
  },
  {
   "cell_type": "code",
   "execution_count": 9,
   "id": "196a1fa0",
   "metadata": {
    "execution": {
     "iopub.execute_input": "2023-05-07T13:09:18.242678Z",
     "iopub.status.busy": "2023-05-07T13:09:18.242290Z",
     "iopub.status.idle": "2023-05-07T13:09:19.872319Z",
     "shell.execute_reply": "2023-05-07T13:09:19.871123Z"
    },
    "papermill": {
     "duration": 1.641819,
     "end_time": "2023-05-07T13:09:19.875072",
     "exception": false,
     "start_time": "2023-05-07T13:09:18.233253",
     "status": "completed"
    },
    "tags": []
   },
   "outputs": [
    {
     "name": "stderr",
     "output_type": "stream",
     "text": [
      "/opt/conda/lib/python3.10/site-packages/scipy/__init__.py:146: UserWarning: A NumPy version >=1.16.5 and <1.23.0 is required for this version of SciPy (detected version 1.23.5\n",
      "  warnings.warn(f\"A NumPy version >={np_minversion} and <{np_maxversion}\"\n"
     ]
    }
   ],
   "source": [
    "from nltk.corpus import stopwords"
   ]
  },
  {
   "cell_type": "code",
   "execution_count": 10,
   "id": "dc17e4f5",
   "metadata": {
    "execution": {
     "iopub.execute_input": "2023-05-07T13:09:19.892553Z",
     "iopub.status.busy": "2023-05-07T13:09:19.892133Z",
     "iopub.status.idle": "2023-05-07T13:09:19.902955Z",
     "shell.execute_reply": "2023-05-07T13:09:19.901781Z"
    },
    "papermill": {
     "duration": 0.022781,
     "end_time": "2023-05-07T13:09:19.905419",
     "exception": false,
     "start_time": "2023-05-07T13:09:19.882638",
     "status": "completed"
    },
    "tags": []
   },
   "outputs": [],
   "source": [
    "sw= stopwords.words('english')"
   ]
  },
  {
   "cell_type": "code",
   "execution_count": 11,
   "id": "901a7286",
   "metadata": {
    "execution": {
     "iopub.execute_input": "2023-05-07T13:09:19.922226Z",
     "iopub.status.busy": "2023-05-07T13:09:19.921821Z",
     "iopub.status.idle": "2023-05-07T13:09:19.927061Z",
     "shell.execute_reply": "2023-05-07T13:09:19.926014Z"
    },
    "papermill": {
     "duration": 0.016277,
     "end_time": "2023-05-07T13:09:19.929217",
     "exception": false,
     "start_time": "2023-05-07T13:09:19.912940",
     "status": "completed"
    },
    "tags": []
   },
   "outputs": [],
   "source": [
    "def remove_sw(text):\n",
    "    m = []\n",
    "    for t in text.split():\n",
    "        if t not in sw:\n",
    "            m.append(t)\n",
    "    return \" \".join(m)"
   ]
  },
  {
   "cell_type": "code",
   "execution_count": 12,
   "id": "7192a4b2",
   "metadata": {
    "execution": {
     "iopub.execute_input": "2023-05-07T13:09:19.947231Z",
     "iopub.status.busy": "2023-05-07T13:09:19.946315Z",
     "iopub.status.idle": "2023-05-07T13:09:22.785336Z",
     "shell.execute_reply": "2023-05-07T13:09:22.784170Z"
    },
    "papermill": {
     "duration": 2.850757,
     "end_time": "2023-05-07T13:09:22.787862",
     "exception": false,
     "start_time": "2023-05-07T13:09:19.937105",
     "status": "completed"
    },
    "tags": []
   },
   "outputs": [],
   "source": [
    "ft = ft.apply(remove_sw)"
   ]
  },
  {
   "cell_type": "code",
   "execution_count": 13,
   "id": "d76f38d2",
   "metadata": {
    "execution": {
     "iopub.execute_input": "2023-05-07T13:09:22.804533Z",
     "iopub.status.busy": "2023-05-07T13:09:22.804121Z",
     "iopub.status.idle": "2023-05-07T13:09:22.843458Z",
     "shell.execute_reply": "2023-05-07T13:09:22.842313Z"
    },
    "papermill": {
     "duration": 0.050618,
     "end_time": "2023-05-07T13:09:22.845993",
     "exception": false,
     "start_time": "2023-05-07T13:09:22.795375",
     "status": "completed"
    },
    "tags": []
   },
   "outputs": [],
   "source": [
    "import string\n",
    "punc = string.punctuation\n",
    "def remove_punc(text):\n",
    "    return text.translate(str.maketrans('','',punc))\n",
    "ft = ft.apply(remove_punc)"
   ]
  },
  {
   "cell_type": "code",
   "execution_count": 14,
   "id": "f6e908cb",
   "metadata": {
    "execution": {
     "iopub.execute_input": "2023-05-07T13:09:22.863169Z",
     "iopub.status.busy": "2023-05-07T13:09:22.862751Z",
     "iopub.status.idle": "2023-05-07T13:09:22.866958Z",
     "shell.execute_reply": "2023-05-07T13:09:22.865891Z"
    },
    "papermill": {
     "duration": 0.015357,
     "end_time": "2023-05-07T13:09:22.869134",
     "exception": false,
     "start_time": "2023-05-07T13:09:22.853777",
     "status": "completed"
    },
    "tags": []
   },
   "outputs": [],
   "source": [
    "# from textblob import TextBlob\n",
    "# def spell_correct(text):\n",
    "#     tb = TextBlob(text)\n",
    "#     return tb.correct().string\n",
    "\n",
    "\n"
   ]
  },
  {
   "cell_type": "code",
   "execution_count": 15,
   "id": "26193978",
   "metadata": {
    "execution": {
     "iopub.execute_input": "2023-05-07T13:09:22.886051Z",
     "iopub.status.busy": "2023-05-07T13:09:22.885319Z",
     "iopub.status.idle": "2023-05-07T13:09:22.889218Z",
     "shell.execute_reply": "2023-05-07T13:09:22.888285Z"
    },
    "papermill": {
     "duration": 0.014468,
     "end_time": "2023-05-07T13:09:22.891166",
     "exception": false,
     "start_time": "2023-05-07T13:09:22.876698",
     "status": "completed"
    },
    "tags": []
   },
   "outputs": [],
   "source": [
    "#ft = ft.apply(spell_correct)"
   ]
  },
  {
   "cell_type": "markdown",
   "id": "a610f5c0",
   "metadata": {
    "papermill": {
     "duration": 0.006873,
     "end_time": "2023-05-07T13:09:22.905492",
     "exception": false,
     "start_time": "2023-05-07T13:09:22.898619",
     "status": "completed"
    },
    "tags": []
   },
   "source": [
    "Bag of words (1 gram, 2gram, both 1n2 grams)"
   ]
  },
  {
   "cell_type": "markdown",
   "id": "e30486f5",
   "metadata": {
    "papermill": {
     "duration": 0.006869,
     "end_time": "2023-05-07T13:09:22.919326",
     "exception": false,
     "start_time": "2023-05-07T13:09:22.912457",
     "status": "completed"
    },
    "tags": []
   },
   "source": []
  },
  {
   "cell_type": "code",
   "execution_count": 16,
   "id": "d82fc81c",
   "metadata": {
    "execution": {
     "iopub.execute_input": "2023-05-07T13:09:22.936264Z",
     "iopub.status.busy": "2023-05-07T13:09:22.935202Z",
     "iopub.status.idle": "2023-05-07T13:09:24.166058Z",
     "shell.execute_reply": "2023-05-07T13:09:24.164895Z"
    },
    "papermill": {
     "duration": 1.241683,
     "end_time": "2023-05-07T13:09:24.168266",
     "exception": false,
     "start_time": "2023-05-07T13:09:22.926583",
     "status": "completed"
    },
    "tags": []
   },
   "outputs": [
    {
     "data": {
      "text/plain": [
       "36136"
      ]
     },
     "execution_count": 16,
     "metadata": {},
     "output_type": "execute_result"
    }
   ],
   "source": [
    "from sklearn.feature_extraction.text import CountVectorizer\n",
    "cv = CountVectorizer()\n",
    "bow = cv.fit_transform(ft).toarray()\n",
    "len(cv.vocabulary_)"
   ]
  },
  {
   "cell_type": "code",
   "execution_count": 17,
   "id": "ee0c8b17",
   "metadata": {
    "execution": {
     "iopub.execute_input": "2023-05-07T13:09:24.186643Z",
     "iopub.status.busy": "2023-05-07T13:09:24.185743Z",
     "iopub.status.idle": "2023-05-07T13:09:28.423684Z",
     "shell.execute_reply": "2023-05-07T13:09:28.422634Z"
    },
    "papermill": {
     "duration": 4.250349,
     "end_time": "2023-05-07T13:09:28.426279",
     "exception": false,
     "start_time": "2023-05-07T13:09:24.175930",
     "status": "completed"
    },
    "tags": []
   },
   "outputs": [
    {
     "data": {
      "text/plain": [
       "388776"
      ]
     },
     "execution_count": 17,
     "metadata": {},
     "output_type": "execute_result"
    }
   ],
   "source": [
    "from sklearn.feature_extraction.text import CountVectorizer\n",
    "cv2 = CountVectorizer(ngram_range = (1,2))\n",
    "bow2 = cv2.fit_transform(ft).toarray()\n",
    "len(cv2.vocabulary_)"
   ]
  },
  {
   "cell_type": "code",
   "execution_count": 18,
   "id": "b8953a28",
   "metadata": {
    "execution": {
     "iopub.execute_input": "2023-05-07T13:09:28.443300Z",
     "iopub.status.busy": "2023-05-07T13:09:28.442869Z",
     "iopub.status.idle": "2023-05-07T13:09:32.050532Z",
     "shell.execute_reply": "2023-05-07T13:09:32.049407Z"
    },
    "papermill": {
     "duration": 3.61893,
     "end_time": "2023-05-07T13:09:32.052872",
     "exception": false,
     "start_time": "2023-05-07T13:09:28.433942",
     "status": "completed"
    },
    "tags": []
   },
   "outputs": [
    {
     "data": {
      "text/plain": [
       "352640"
      ]
     },
     "execution_count": 18,
     "metadata": {},
     "output_type": "execute_result"
    }
   ],
   "source": [
    "from sklearn.feature_extraction.text import CountVectorizer\n",
    "cv3 = CountVectorizer(ngram_range = (2,2))\n",
    "bow3 = cv3.fit_transform(ft).toarray()\n",
    "len(cv3.vocabulary_)"
   ]
  },
  {
   "cell_type": "code",
   "execution_count": 19,
   "id": "da208416",
   "metadata": {
    "execution": {
     "iopub.execute_input": "2023-05-07T13:09:32.070811Z",
     "iopub.status.busy": "2023-05-07T13:09:32.069782Z",
     "iopub.status.idle": "2023-05-07T13:09:32.109361Z",
     "shell.execute_reply": "2023-05-07T13:09:32.108209Z"
    },
    "papermill": {
     "duration": 0.051273,
     "end_time": "2023-05-07T13:09:32.112021",
     "exception": false,
     "start_time": "2023-05-07T13:09:32.060748",
     "status": "completed"
    },
    "tags": []
   },
   "outputs": [],
   "source": [
    "xn1 = pd.DataFrame(bow)\n",
    "xn1.columns = xn1.columns.astype(str)"
   ]
  },
  {
   "cell_type": "code",
   "execution_count": 20,
   "id": "6cdc40a8",
   "metadata": {
    "execution": {
     "iopub.execute_input": "2023-05-07T13:09:32.129482Z",
     "iopub.status.busy": "2023-05-07T13:09:32.129085Z",
     "iopub.status.idle": "2023-05-07T13:09:32.151804Z",
     "shell.execute_reply": "2023-05-07T13:09:32.150686Z"
    },
    "papermill": {
     "duration": 0.034269,
     "end_time": "2023-05-07T13:09:32.154127",
     "exception": false,
     "start_time": "2023-05-07T13:09:32.119858",
     "status": "completed"
    },
    "tags": []
   },
   "outputs": [
    {
     "data": {
      "text/plain": [
       "0    when a person has no experience on a job their...\n",
       "1    Do you think students would benefit from being...\n",
       "2    Thomas Jefferson once states that \"it is wonde...\n",
       "Name: full_text, dtype: object"
      ]
     },
     "execution_count": 20,
     "metadata": {},
     "output_type": "execute_result"
    }
   ],
   "source": [
    "test = pd.read_csv('/kaggle/input/feedback-prize-english-language-learning/test.csv')\n",
    "test.drop(['text_id'],axis = 1, inplace = True)\n",
    "xt = test.full_text\n",
    "xt"
   ]
  },
  {
   "cell_type": "code",
   "execution_count": 21,
   "id": "c33871ca",
   "metadata": {
    "execution": {
     "iopub.execute_input": "2023-05-07T13:09:32.172107Z",
     "iopub.status.busy": "2023-05-07T13:09:32.171108Z",
     "iopub.status.idle": "2023-05-07T13:09:32.186824Z",
     "shell.execute_reply": "2023-05-07T13:09:32.185780Z"
    },
    "papermill": {
     "duration": 0.027102,
     "end_time": "2023-05-07T13:09:32.189089",
     "exception": false,
     "start_time": "2023-05-07T13:09:32.161987",
     "status": "completed"
    },
    "tags": []
   },
   "outputs": [
    {
     "data": {
      "text/plain": [
       "(3, 36136)"
      ]
     },
     "execution_count": 21,
     "metadata": {},
     "output_type": "execute_result"
    }
   ],
   "source": [
    "xt = xt.str.lower()\n",
    "xt = xt.apply(remove_n_r)\n",
    "xt = xt.apply(remove_sw)\n",
    "xt = xt.apply(remove_punc)\n",
    "bow_xt = cv.transform(xt).toarray()\n",
    "bow_xt.shape"
   ]
  },
  {
   "cell_type": "code",
   "execution_count": 22,
   "id": "943217dd",
   "metadata": {
    "execution": {
     "iopub.execute_input": "2023-05-07T13:09:32.207179Z",
     "iopub.status.busy": "2023-05-07T13:09:32.206296Z",
     "iopub.status.idle": "2023-05-07T13:09:32.247369Z",
     "shell.execute_reply": "2023-05-07T13:09:32.246219Z"
    },
    "papermill": {
     "duration": 0.052674,
     "end_time": "2023-05-07T13:09:32.249784",
     "exception": false,
     "start_time": "2023-05-07T13:09:32.197110",
     "status": "completed"
    },
    "tags": []
   },
   "outputs": [],
   "source": [
    "xt1 = pd.DataFrame(bow_xt)\n",
    "xt1.columns = xt1.columns.astype(str)"
   ]
  },
  {
   "cell_type": "code",
   "execution_count": 23,
   "id": "971bd250",
   "metadata": {
    "execution": {
     "iopub.execute_input": "2023-05-07T13:09:32.267297Z",
     "iopub.status.busy": "2023-05-07T13:09:32.266918Z",
     "iopub.status.idle": "2023-05-07T13:09:32.278387Z",
     "shell.execute_reply": "2023-05-07T13:09:32.277475Z"
    },
    "papermill": {
     "duration": 0.022973,
     "end_time": "2023-05-07T13:09:32.280776",
     "exception": false,
     "start_time": "2023-05-07T13:09:32.257803",
     "status": "completed"
    },
    "tags": []
   },
   "outputs": [
    {
     "data": {
      "text/html": [
       "<div>\n",
       "<style scoped>\n",
       "    .dataframe tbody tr th:only-of-type {\n",
       "        vertical-align: middle;\n",
       "    }\n",
       "\n",
       "    .dataframe tbody tr th {\n",
       "        vertical-align: top;\n",
       "    }\n",
       "\n",
       "    .dataframe thead th {\n",
       "        text-align: right;\n",
       "    }\n",
       "</style>\n",
       "<table border=\"1\" class=\"dataframe\">\n",
       "  <thead>\n",
       "    <tr style=\"text-align: right;\">\n",
       "      <th></th>\n",
       "      <th>text_id</th>\n",
       "    </tr>\n",
       "  </thead>\n",
       "  <tbody>\n",
       "    <tr>\n",
       "      <th>0</th>\n",
       "      <td>0000C359D63E</td>\n",
       "    </tr>\n",
       "    <tr>\n",
       "      <th>1</th>\n",
       "      <td>000BAD50D026</td>\n",
       "    </tr>\n",
       "    <tr>\n",
       "      <th>2</th>\n",
       "      <td>00367BB2546B</td>\n",
       "    </tr>\n",
       "  </tbody>\n",
       "</table>\n",
       "</div>"
      ],
      "text/plain": [
       "        text_id\n",
       "0  0000C359D63E\n",
       "1  000BAD50D026\n",
       "2  00367BB2546B"
      ]
     },
     "execution_count": 23,
     "metadata": {},
     "output_type": "execute_result"
    }
   ],
   "source": [
    "test1 = pd.read_csv('/kaggle/input/feedback-prize-english-language-learning/test.csv')\n",
    "test1 = pd.DataFrame(test1.text_id)\n",
    "test1"
   ]
  },
  {
   "cell_type": "code",
   "execution_count": 24,
   "id": "e25cefae",
   "metadata": {
    "execution": {
     "iopub.execute_input": "2023-05-07T13:09:32.299101Z",
     "iopub.status.busy": "2023-05-07T13:09:32.298177Z",
     "iopub.status.idle": "2023-05-07T13:13:38.360638Z",
     "shell.execute_reply": "2023-05-07T13:13:38.359718Z"
    },
    "papermill": {
     "duration": 246.082164,
     "end_time": "2023-05-07T13:13:38.371108",
     "exception": false,
     "start_time": "2023-05-07T13:09:32.288944",
     "status": "completed"
    },
    "tags": []
   },
   "outputs": [
    {
     "data": {
      "text/html": [
       "<style>#sk-container-id-1 {color: black;background-color: white;}#sk-container-id-1 pre{padding: 0;}#sk-container-id-1 div.sk-toggleable {background-color: white;}#sk-container-id-1 label.sk-toggleable__label {cursor: pointer;display: block;width: 100%;margin-bottom: 0;padding: 0.3em;box-sizing: border-box;text-align: center;}#sk-container-id-1 label.sk-toggleable__label-arrow:before {content: \"▸\";float: left;margin-right: 0.25em;color: #696969;}#sk-container-id-1 label.sk-toggleable__label-arrow:hover:before {color: black;}#sk-container-id-1 div.sk-estimator:hover label.sk-toggleable__label-arrow:before {color: black;}#sk-container-id-1 div.sk-toggleable__content {max-height: 0;max-width: 0;overflow: hidden;text-align: left;background-color: #f0f8ff;}#sk-container-id-1 div.sk-toggleable__content pre {margin: 0.2em;color: black;border-radius: 0.25em;background-color: #f0f8ff;}#sk-container-id-1 input.sk-toggleable__control:checked~div.sk-toggleable__content {max-height: 200px;max-width: 100%;overflow: auto;}#sk-container-id-1 input.sk-toggleable__control:checked~label.sk-toggleable__label-arrow:before {content: \"▾\";}#sk-container-id-1 div.sk-estimator input.sk-toggleable__control:checked~label.sk-toggleable__label {background-color: #d4ebff;}#sk-container-id-1 div.sk-label input.sk-toggleable__control:checked~label.sk-toggleable__label {background-color: #d4ebff;}#sk-container-id-1 input.sk-hidden--visually {border: 0;clip: rect(1px 1px 1px 1px);clip: rect(1px, 1px, 1px, 1px);height: 1px;margin: -1px;overflow: hidden;padding: 0;position: absolute;width: 1px;}#sk-container-id-1 div.sk-estimator {font-family: monospace;background-color: #f0f8ff;border: 1px dotted black;border-radius: 0.25em;box-sizing: border-box;margin-bottom: 0.5em;}#sk-container-id-1 div.sk-estimator:hover {background-color: #d4ebff;}#sk-container-id-1 div.sk-parallel-item::after {content: \"\";width: 100%;border-bottom: 1px solid gray;flex-grow: 1;}#sk-container-id-1 div.sk-label:hover label.sk-toggleable__label {background-color: #d4ebff;}#sk-container-id-1 div.sk-serial::before {content: \"\";position: absolute;border-left: 1px solid gray;box-sizing: border-box;top: 0;bottom: 0;left: 50%;z-index: 0;}#sk-container-id-1 div.sk-serial {display: flex;flex-direction: column;align-items: center;background-color: white;padding-right: 0.2em;padding-left: 0.2em;position: relative;}#sk-container-id-1 div.sk-item {position: relative;z-index: 1;}#sk-container-id-1 div.sk-parallel {display: flex;align-items: stretch;justify-content: center;background-color: white;position: relative;}#sk-container-id-1 div.sk-item::before, #sk-container-id-1 div.sk-parallel-item::before {content: \"\";position: absolute;border-left: 1px solid gray;box-sizing: border-box;top: 0;bottom: 0;left: 50%;z-index: -1;}#sk-container-id-1 div.sk-parallel-item {display: flex;flex-direction: column;z-index: 1;position: relative;background-color: white;}#sk-container-id-1 div.sk-parallel-item:first-child::after {align-self: flex-end;width: 50%;}#sk-container-id-1 div.sk-parallel-item:last-child::after {align-self: flex-start;width: 50%;}#sk-container-id-1 div.sk-parallel-item:only-child::after {width: 0;}#sk-container-id-1 div.sk-dashed-wrapped {border: 1px dashed gray;margin: 0 0.4em 0.5em 0.4em;box-sizing: border-box;padding-bottom: 0.4em;background-color: white;}#sk-container-id-1 div.sk-label label {font-family: monospace;font-weight: bold;display: inline-block;line-height: 1.2em;}#sk-container-id-1 div.sk-label-container {text-align: center;}#sk-container-id-1 div.sk-container {/* jupyter's `normalize.less` sets `[hidden] { display: none; }` but bootstrap.min.css set `[hidden] { display: none !important; }` so we also need the `!important` here to be able to override the default hidden behavior on the sphinx rendered scikit-learn.org. See: https://github.com/scikit-learn/scikit-learn/issues/21755 */display: inline-block !important;position: relative;}#sk-container-id-1 div.sk-text-repr-fallback {display: none;}</style><div id=\"sk-container-id-1\" class=\"sk-top-container\"><div class=\"sk-text-repr-fallback\"><pre>RandomForestRegressor(max_depth=3)</pre><b>In a Jupyter environment, please rerun this cell to show the HTML representation or trust the notebook. <br />On GitHub, the HTML representation is unable to render, please try loading this page with nbviewer.org.</b></div><div class=\"sk-container\" hidden><div class=\"sk-item\"><div class=\"sk-estimator sk-toggleable\"><input class=\"sk-toggleable__control sk-hidden--visually\" id=\"sk-estimator-id-1\" type=\"checkbox\" checked><label for=\"sk-estimator-id-1\" class=\"sk-toggleable__label sk-toggleable__label-arrow\">RandomForestRegressor</label><div class=\"sk-toggleable__content\"><pre>RandomForestRegressor(max_depth=3)</pre></div></div></div></div></div>"
      ],
      "text/plain": [
       "RandomForestRegressor(max_depth=3)"
      ]
     },
     "execution_count": 24,
     "metadata": {},
     "output_type": "execute_result"
    }
   ],
   "source": [
    "from sklearn.ensemble import RandomForestRegressor\n",
    "Rf = RandomForestRegressor(max_depth = 3)\n",
    "Rf.fit(xn1,y)"
   ]
  },
  {
   "cell_type": "code",
   "execution_count": 25,
   "id": "500b73c4",
   "metadata": {
    "execution": {
     "iopub.execute_input": "2023-05-07T13:13:38.390988Z",
     "iopub.status.busy": "2023-05-07T13:13:38.390327Z",
     "iopub.status.idle": "2023-05-07T13:13:38.708260Z",
     "shell.execute_reply": "2023-05-07T13:13:38.707040Z"
    },
    "papermill": {
     "duration": 0.330556,
     "end_time": "2023-05-07T13:13:38.710461",
     "exception": false,
     "start_time": "2023-05-07T13:13:38.379905",
     "status": "completed"
    },
    "tags": []
   },
   "outputs": [
    {
     "data": {
      "text/html": [
       "<div>\n",
       "<style scoped>\n",
       "    .dataframe tbody tr th:only-of-type {\n",
       "        vertical-align: middle;\n",
       "    }\n",
       "\n",
       "    .dataframe tbody tr th {\n",
       "        vertical-align: top;\n",
       "    }\n",
       "\n",
       "    .dataframe thead th {\n",
       "        text-align: right;\n",
       "    }\n",
       "</style>\n",
       "<table border=\"1\" class=\"dataframe\">\n",
       "  <thead>\n",
       "    <tr style=\"text-align: right;\">\n",
       "      <th></th>\n",
       "      <th>cohesion</th>\n",
       "      <th>syntax</th>\n",
       "      <th>vocabulary</th>\n",
       "      <th>phraseology</th>\n",
       "      <th>grammar</th>\n",
       "      <th>conventions</th>\n",
       "    </tr>\n",
       "  </thead>\n",
       "  <tbody>\n",
       "    <tr>\n",
       "      <th>0</th>\n",
       "      <td>3.315754</td>\n",
       "      <td>3.224021</td>\n",
       "      <td>3.407031</td>\n",
       "      <td>3.326537</td>\n",
       "      <td>3.260235</td>\n",
       "      <td>3.265009</td>\n",
       "    </tr>\n",
       "    <tr>\n",
       "      <th>1</th>\n",
       "      <td>3.151384</td>\n",
       "      <td>3.054056</td>\n",
       "      <td>3.250885</td>\n",
       "      <td>3.154627</td>\n",
       "      <td>3.107460</td>\n",
       "      <td>3.098086</td>\n",
       "    </tr>\n",
       "    <tr>\n",
       "      <th>2</th>\n",
       "      <td>3.221700</td>\n",
       "      <td>3.123195</td>\n",
       "      <td>3.329539</td>\n",
       "      <td>3.226080</td>\n",
       "      <td>3.105180</td>\n",
       "      <td>3.166579</td>\n",
       "    </tr>\n",
       "  </tbody>\n",
       "</table>\n",
       "</div>"
      ],
      "text/plain": [
       "   cohesion    syntax  vocabulary  phraseology   grammar  conventions\n",
       "0  3.315754  3.224021    3.407031     3.326537  3.260235     3.265009\n",
       "1  3.151384  3.054056    3.250885     3.154627  3.107460     3.098086\n",
       "2  3.221700  3.123195    3.329539     3.226080  3.105180     3.166579"
      ]
     },
     "execution_count": 25,
     "metadata": {},
     "output_type": "execute_result"
    }
   ],
   "source": [
    "bowN1 = pd.DataFrame(Rf.predict(xt1),columns = y.columns)\n",
    "bowN1"
   ]
  },
  {
   "cell_type": "code",
   "execution_count": 26,
   "id": "333ddf2f",
   "metadata": {
    "execution": {
     "iopub.execute_input": "2023-05-07T13:13:38.729815Z",
     "iopub.status.busy": "2023-05-07T13:13:38.729187Z",
     "iopub.status.idle": "2023-05-07T13:13:38.743766Z",
     "shell.execute_reply": "2023-05-07T13:13:38.742689Z"
    },
    "papermill": {
     "duration": 0.026845,
     "end_time": "2023-05-07T13:13:38.745853",
     "exception": false,
     "start_time": "2023-05-07T13:13:38.719008",
     "status": "completed"
    },
    "tags": []
   },
   "outputs": [
    {
     "data": {
      "text/html": [
       "<div>\n",
       "<style scoped>\n",
       "    .dataframe tbody tr th:only-of-type {\n",
       "        vertical-align: middle;\n",
       "    }\n",
       "\n",
       "    .dataframe tbody tr th {\n",
       "        vertical-align: top;\n",
       "    }\n",
       "\n",
       "    .dataframe thead th {\n",
       "        text-align: right;\n",
       "    }\n",
       "</style>\n",
       "<table border=\"1\" class=\"dataframe\">\n",
       "  <thead>\n",
       "    <tr style=\"text-align: right;\">\n",
       "      <th></th>\n",
       "      <th>text_id</th>\n",
       "      <th>cohesion</th>\n",
       "      <th>syntax</th>\n",
       "      <th>vocabulary</th>\n",
       "      <th>phraseology</th>\n",
       "      <th>grammar</th>\n",
       "      <th>conventions</th>\n",
       "    </tr>\n",
       "  </thead>\n",
       "  <tbody>\n",
       "    <tr>\n",
       "      <th>0</th>\n",
       "      <td>0000C359D63E</td>\n",
       "      <td>3.315754</td>\n",
       "      <td>3.224021</td>\n",
       "      <td>3.407031</td>\n",
       "      <td>3.326537</td>\n",
       "      <td>3.260235</td>\n",
       "      <td>3.265009</td>\n",
       "    </tr>\n",
       "    <tr>\n",
       "      <th>1</th>\n",
       "      <td>000BAD50D026</td>\n",
       "      <td>3.151384</td>\n",
       "      <td>3.054056</td>\n",
       "      <td>3.250885</td>\n",
       "      <td>3.154627</td>\n",
       "      <td>3.107460</td>\n",
       "      <td>3.098086</td>\n",
       "    </tr>\n",
       "    <tr>\n",
       "      <th>2</th>\n",
       "      <td>00367BB2546B</td>\n",
       "      <td>3.221700</td>\n",
       "      <td>3.123195</td>\n",
       "      <td>3.329539</td>\n",
       "      <td>3.226080</td>\n",
       "      <td>3.105180</td>\n",
       "      <td>3.166579</td>\n",
       "    </tr>\n",
       "  </tbody>\n",
       "</table>\n",
       "</div>"
      ],
      "text/plain": [
       "        text_id  cohesion    syntax  vocabulary  phraseology   grammar  \\\n",
       "0  0000C359D63E  3.315754  3.224021    3.407031     3.326537  3.260235   \n",
       "1  000BAD50D026  3.151384  3.054056    3.250885     3.154627  3.107460   \n",
       "2  00367BB2546B  3.221700  3.123195    3.329539     3.226080  3.105180   \n",
       "\n",
       "   conventions  \n",
       "0     3.265009  \n",
       "1     3.098086  \n",
       "2     3.166579  "
      ]
     },
     "execution_count": 26,
     "metadata": {},
     "output_type": "execute_result"
    }
   ],
   "source": [
    "submission = pd.concat([test1,bowN1],axis = 1)\n",
    "submission.reset_index(drop= True, inplace = True)\n",
    "submission"
   ]
  },
  {
   "cell_type": "code",
   "execution_count": 27,
   "id": "86e93df6",
   "metadata": {
    "execution": {
     "iopub.execute_input": "2023-05-07T13:13:38.765384Z",
     "iopub.status.busy": "2023-05-07T13:13:38.764749Z",
     "iopub.status.idle": "2023-05-07T13:13:38.775265Z",
     "shell.execute_reply": "2023-05-07T13:13:38.774411Z"
    },
    "papermill": {
     "duration": 0.022887,
     "end_time": "2023-05-07T13:13:38.777475",
     "exception": false,
     "start_time": "2023-05-07T13:13:38.754588",
     "status": "completed"
    },
    "tags": []
   },
   "outputs": [],
   "source": [
    "submission.to_csv('submission.csv')"
   ]
  },
  {
   "cell_type": "code",
   "execution_count": null,
   "id": "b4216cc2",
   "metadata": {
    "papermill": {
     "duration": 0.008318,
     "end_time": "2023-05-07T13:13:38.794898",
     "exception": false,
     "start_time": "2023-05-07T13:13:38.786580",
     "status": "completed"
    },
    "tags": []
   },
   "outputs": [],
   "source": []
  }
 ],
 "metadata": {
  "kernelspec": {
   "display_name": "Python 3",
   "language": "python",
   "name": "python3"
  },
  "language_info": {
   "codemirror_mode": {
    "name": "ipython",
    "version": 3
   },
   "file_extension": ".py",
   "mimetype": "text/x-python",
   "name": "python",
   "nbconvert_exporter": "python",
   "pygments_lexer": "ipython3",
   "version": "3.10.10"
  },
  "papermill": {
   "default_parameters": {},
   "duration": 276.186839,
   "end_time": "2023-05-07T13:13:40.329043",
   "environment_variables": {},
   "exception": null,
   "input_path": "__notebook__.ipynb",
   "output_path": "__notebook__.ipynb",
   "parameters": {},
   "start_time": "2023-05-07T13:09:04.142204",
   "version": "2.4.0"
  }
 },
 "nbformat": 4,
 "nbformat_minor": 5
}
